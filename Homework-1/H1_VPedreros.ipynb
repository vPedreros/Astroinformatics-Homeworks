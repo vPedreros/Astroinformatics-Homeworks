{
 "cells": [
  {
   "cell_type": "markdown",
   "metadata": {},
   "source": [
    "# **HOMEWORK 1**\n",
    "\n",
    "## Vicente Pedreros Aballay 20.442.866-2"
   ]
  },
  {
   "cell_type": "markdown",
   "metadata": {
    "toc": true
   },
   "source": [
    "<h1>Table of Contents<span class=\"tocSkip\"></span></h1>\n",
    "<div class=\"toc\"><ul class=\"toc-item\"><li><span><a href=\"#Vicente-Pedreros-Aballay-20.442.866-2\" data-toc-modified-id=\"Vicente-Pedreros-Aballay-20.442.866-2-1\">Vicente Pedreros Aballay 20.442.866-2</a></span></li><li><span><a href=\"#Problem-1\" data-toc-modified-id=\"Problem-1-2\"><strong>Problem 1</strong></a></span><ul class=\"toc-item\"><li><span><a href=\"#Part-1.-Polynomial-Regression\" data-toc-modified-id=\"Part-1.-Polynomial-Regression-2.1\">Part 1. Polynomial Regression</a></span></li><li><span><a href=\"#Part-2.-Ridge-and-Lasso-Regression\" data-toc-modified-id=\"Part-2.-Ridge-and-Lasso-Regression-2.2\">Part 2. Ridge and Lasso Regression</a></span><ul class=\"toc-item\"><li><span><a href=\"#Ridge-Regression\" data-toc-modified-id=\"Ridge-Regression-2.2.1\">Ridge Regression</a></span></li><li><span><a href=\"#Lasso-Regression\" data-toc-modified-id=\"Lasso-Regression-2.2.2\">Lasso Regression</a></span></li><li><span><a href=\"#Comparison-between-polynomial,-Ridge-and-Lasso-regressions\" data-toc-modified-id=\"Comparison-between-polynomial,-Ridge-and-Lasso-regressions-2.2.3\">Comparison between polynomial, Ridge and Lasso regressions</a></span></li></ul></li><li><span><a href=\"#Part-3.-Huber-loss-regression.\" data-toc-modified-id=\"Part-3.-Huber-loss-regression.-2.3\">Part 3. Huber loss regression.</a></span></li></ul></li><li><span><a href=\"#Problem-2\" data-toc-modified-id=\"Problem-2-3\"><strong>Problem 2</strong></a></span></li><li><span><a href=\"#Problem-3\" data-toc-modified-id=\"Problem-3-4\"><strong>Problem 3</strong></a></span></li></ul></div>"
   ]
  },
  {
   "cell_type": "code",
   "execution_count": 1,
   "metadata": {},
   "outputs": [
    {
     "data": {
      "text/html": [
       "<style>.container { width:80% !important; }</style>"
      ],
      "text/plain": [
       "<IPython.core.display.HTML object>"
      ]
     },
     "metadata": {},
     "output_type": "display_data"
    }
   ],
   "source": [
    "from IPython.core.display import display, HTML\n",
    "display(HTML(\"<style>.container { width:80% !important; }</style>\"))"
   ]
  },
  {
   "cell_type": "markdown",
   "metadata": {},
   "source": [
    "Some packages are imported."
   ]
  },
  {
   "cell_type": "code",
   "execution_count": 2,
   "metadata": {
    "scrolled": true
   },
   "outputs": [],
   "source": [
    "import numpy as np\n",
    "import matplotlib.pyplot as plt\n",
    "import pandas as pd"
   ]
  },
  {
   "cell_type": "markdown",
   "metadata": {},
   "source": [
    "The data is read and stored as a pandas dataframe."
   ]
  },
  {
   "cell_type": "code",
   "execution_count": 3,
   "metadata": {
    "scrolled": true
   },
   "outputs": [
    {
     "data": {
      "text/html": [
       "<div>\n",
       "<style scoped>\n",
       "    .dataframe tbody tr th:only-of-type {\n",
       "        vertical-align: middle;\n",
       "    }\n",
       "\n",
       "    .dataframe tbody tr th {\n",
       "        vertical-align: top;\n",
       "    }\n",
       "\n",
       "    .dataframe thead th {\n",
       "        text-align: right;\n",
       "    }\n",
       "</style>\n",
       "<table border=\"1\" class=\"dataframe\">\n",
       "  <thead>\n",
       "    <tr style=\"text-align: right;\">\n",
       "      <th></th>\n",
       "      <th>redshift</th>\n",
       "      <th>dist_mod</th>\n",
       "      <th>err_dist_mod</th>\n",
       "    </tr>\n",
       "  </thead>\n",
       "  <tbody>\n",
       "    <tr>\n",
       "      <th>0</th>\n",
       "      <td>0.019200</td>\n",
       "      <td>34.491562</td>\n",
       "      <td>0.197092</td>\n",
       "    </tr>\n",
       "    <tr>\n",
       "      <th>1</th>\n",
       "      <td>0.033500</td>\n",
       "      <td>35.973833</td>\n",
       "      <td>0.170490</td>\n",
       "    </tr>\n",
       "    <tr>\n",
       "      <th>2</th>\n",
       "      <td>0.045295</td>\n",
       "      <td>36.640272</td>\n",
       "      <td>0.164981</td>\n",
       "    </tr>\n",
       "    <tr>\n",
       "      <th>3</th>\n",
       "      <td>0.380417</td>\n",
       "      <td>41.272341</td>\n",
       "      <td>0.198558</td>\n",
       "    </tr>\n",
       "    <tr>\n",
       "      <th>4</th>\n",
       "      <td>0.495000</td>\n",
       "      <td>42.118908</td>\n",
       "      <td>0.443653</td>\n",
       "    </tr>\n",
       "    <tr>\n",
       "      <th>5</th>\n",
       "      <td>0.314000</td>\n",
       "      <td>41.231968</td>\n",
       "      <td>0.242364</td>\n",
       "    </tr>\n",
       "    <tr>\n",
       "      <th>6</th>\n",
       "      <td>0.540000</td>\n",
       "      <td>42.511164</td>\n",
       "      <td>0.282945</td>\n",
       "    </tr>\n",
       "    <tr>\n",
       "      <th>7</th>\n",
       "      <td>0.671000</td>\n",
       "      <td>42.982007</td>\n",
       "      <td>0.120546</td>\n",
       "    </tr>\n",
       "    <tr>\n",
       "      <th>8</th>\n",
       "      <td>0.570000</td>\n",
       "      <td>42.489110</td>\n",
       "      <td>0.388953</td>\n",
       "    </tr>\n",
       "    <tr>\n",
       "      <th>9</th>\n",
       "      <td>0.093149</td>\n",
       "      <td>38.280914</td>\n",
       "      <td>0.114454</td>\n",
       "    </tr>\n",
       "    <tr>\n",
       "      <th>10</th>\n",
       "      <td>0.279455</td>\n",
       "      <td>40.501284</td>\n",
       "      <td>0.138725</td>\n",
       "    </tr>\n",
       "    <tr>\n",
       "      <th>11</th>\n",
       "      <td>0.401000</td>\n",
       "      <td>42.554620</td>\n",
       "      <td>0.369894</td>\n",
       "    </tr>\n",
       "    <tr>\n",
       "      <th>12</th>\n",
       "      <td>1.129939</td>\n",
       "      <td>38.536597</td>\n",
       "      <td>0.216218</td>\n",
       "    </tr>\n",
       "    <tr>\n",
       "      <th>13</th>\n",
       "      <td>0.402460</td>\n",
       "      <td>41.911147</td>\n",
       "      <td>0.211278</td>\n",
       "    </tr>\n",
       "    <tr>\n",
       "      <th>14</th>\n",
       "      <td>0.042233</td>\n",
       "      <td>36.336460</td>\n",
       "      <td>0.167174</td>\n",
       "    </tr>\n",
       "    <tr>\n",
       "      <th>15</th>\n",
       "      <td>1.265000</td>\n",
       "      <td>44.944111</td>\n",
       "      <td>0.235470</td>\n",
       "    </tr>\n",
       "    <tr>\n",
       "      <th>16</th>\n",
       "      <td>0.240000</td>\n",
       "      <td>40.742192</td>\n",
       "      <td>0.402844</td>\n",
       "    </tr>\n",
       "    <tr>\n",
       "      <th>17</th>\n",
       "      <td>0.322668</td>\n",
       "      <td>44.102787</td>\n",
       "      <td>0.224459</td>\n",
       "    </tr>\n",
       "    <tr>\n",
       "      <th>18</th>\n",
       "      <td>0.054600</td>\n",
       "      <td>36.609559</td>\n",
       "      <td>0.176655</td>\n",
       "    </tr>\n",
       "    <tr>\n",
       "      <th>19</th>\n",
       "      <td>0.369000</td>\n",
       "      <td>41.634023</td>\n",
       "      <td>0.152644</td>\n",
       "    </tr>\n",
       "    <tr>\n",
       "      <th>20</th>\n",
       "      <td>0.032500</td>\n",
       "      <td>35.813091</td>\n",
       "      <td>0.170395</td>\n",
       "    </tr>\n",
       "    <tr>\n",
       "      <th>21</th>\n",
       "      <td>0.216000</td>\n",
       "      <td>40.556047</td>\n",
       "      <td>0.244100</td>\n",
       "    </tr>\n",
       "    <tr>\n",
       "      <th>22</th>\n",
       "      <td>0.129900</td>\n",
       "      <td>38.979185</td>\n",
       "      <td>0.129445</td>\n",
       "    </tr>\n",
       "    <tr>\n",
       "      <th>23</th>\n",
       "      <td>0.204980</td>\n",
       "      <td>40.024500</td>\n",
       "      <td>0.123527</td>\n",
       "    </tr>\n",
       "    <tr>\n",
       "      <th>24</th>\n",
       "      <td>0.080048</td>\n",
       "      <td>37.685709</td>\n",
       "      <td>0.101968</td>\n",
       "    </tr>\n",
       "    <tr>\n",
       "      <th>25</th>\n",
       "      <td>0.025100</td>\n",
       "      <td>34.948275</td>\n",
       "      <td>0.179223</td>\n",
       "    </tr>\n",
       "    <tr>\n",
       "      <th>26</th>\n",
       "      <td>0.781000</td>\n",
       "      <td>43.437230</td>\n",
       "      <td>0.321349</td>\n",
       "    </tr>\n",
       "    <tr>\n",
       "      <th>27</th>\n",
       "      <td>0.435096</td>\n",
       "      <td>41.676165</td>\n",
       "      <td>0.289060</td>\n",
       "    </tr>\n",
       "    <tr>\n",
       "      <th>28</th>\n",
       "      <td>0.763089</td>\n",
       "      <td>44.232666</td>\n",
       "      <td>0.272904</td>\n",
       "    </tr>\n",
       "    <tr>\n",
       "      <th>29</th>\n",
       "      <td>0.854000</td>\n",
       "      <td>43.608464</td>\n",
       "      <td>0.225570</td>\n",
       "    </tr>\n",
       "    <tr>\n",
       "      <th>30</th>\n",
       "      <td>0.211587</td>\n",
       "      <td>40.560324</td>\n",
       "      <td>0.159325</td>\n",
       "    </tr>\n",
       "    <tr>\n",
       "      <th>31</th>\n",
       "      <td>0.035720</td>\n",
       "      <td>35.960541</td>\n",
       "      <td>0.171187</td>\n",
       "    </tr>\n",
       "    <tr>\n",
       "      <th>32</th>\n",
       "      <td>0.772000</td>\n",
       "      <td>43.509994</td>\n",
       "      <td>0.218835</td>\n",
       "    </tr>\n",
       "    <tr>\n",
       "      <th>33</th>\n",
       "      <td>0.122290</td>\n",
       "      <td>42.111088</td>\n",
       "      <td>0.319912</td>\n",
       "    </tr>\n",
       "    <tr>\n",
       "      <th>34</th>\n",
       "      <td>0.022100</td>\n",
       "      <td>34.911550</td>\n",
       "      <td>0.189961</td>\n",
       "    </tr>\n",
       "    <tr>\n",
       "      <th>35</th>\n",
       "      <td>0.089019</td>\n",
       "      <td>37.828453</td>\n",
       "      <td>0.117433</td>\n",
       "    </tr>\n",
       "    <tr>\n",
       "      <th>36</th>\n",
       "      <td>0.792338</td>\n",
       "      <td>41.554697</td>\n",
       "      <td>0.255928</td>\n",
       "    </tr>\n",
       "    <tr>\n",
       "      <th>37</th>\n",
       "      <td>0.015000</td>\n",
       "      <td>34.111411</td>\n",
       "      <td>0.213389</td>\n",
       "    </tr>\n",
       "    <tr>\n",
       "      <th>38</th>\n",
       "      <td>0.592000</td>\n",
       "      <td>44.152355</td>\n",
       "      <td>0.717963</td>\n",
       "    </tr>\n",
       "    <tr>\n",
       "      <th>39</th>\n",
       "      <td>0.018700</td>\n",
       "      <td>35.048300</td>\n",
       "      <td>0.197197</td>\n",
       "    </tr>\n",
       "    <tr>\n",
       "      <th>40</th>\n",
       "      <td>0.532000</td>\n",
       "      <td>42.565816</td>\n",
       "      <td>0.166651</td>\n",
       "    </tr>\n",
       "    <tr>\n",
       "      <th>41</th>\n",
       "      <td>0.357800</td>\n",
       "      <td>41.434910</td>\n",
       "      <td>0.136096</td>\n",
       "    </tr>\n",
       "    <tr>\n",
       "      <th>42</th>\n",
       "      <td>0.631000</td>\n",
       "      <td>42.377383</td>\n",
       "      <td>0.244974</td>\n",
       "    </tr>\n",
       "    <tr>\n",
       "      <th>43</th>\n",
       "      <td>0.192150</td>\n",
       "      <td>40.039218</td>\n",
       "      <td>0.121087</td>\n",
       "    </tr>\n",
       "    <tr>\n",
       "      <th>44</th>\n",
       "      <td>0.575485</td>\n",
       "      <td>40.158811</td>\n",
       "      <td>0.176556</td>\n",
       "    </tr>\n",
       "    <tr>\n",
       "      <th>45</th>\n",
       "      <td>0.402460</td>\n",
       "      <td>41.911147</td>\n",
       "      <td>0.211278</td>\n",
       "    </tr>\n",
       "    <tr>\n",
       "      <th>46</th>\n",
       "      <td>0.905000</td>\n",
       "      <td>43.638740</td>\n",
       "      <td>0.257468</td>\n",
       "    </tr>\n",
       "    <tr>\n",
       "      <th>47</th>\n",
       "      <td>0.821000</td>\n",
       "      <td>43.640939</td>\n",
       "      <td>0.194014</td>\n",
       "    </tr>\n",
       "    <tr>\n",
       "      <th>48</th>\n",
       "      <td>0.015000</td>\n",
       "      <td>34.379773</td>\n",
       "      <td>0.217349</td>\n",
       "    </tr>\n",
       "    <tr>\n",
       "      <th>49</th>\n",
       "      <td>0.015300</td>\n",
       "      <td>34.707186</td>\n",
       "      <td>0.213243</td>\n",
       "    </tr>\n",
       "  </tbody>\n",
       "</table>\n",
       "</div>"
      ],
      "text/plain": [
       "    redshift   dist_mod  err_dist_mod\n",
       "0   0.019200  34.491562      0.197092\n",
       "1   0.033500  35.973833      0.170490\n",
       "2   0.045295  36.640272      0.164981\n",
       "3   0.380417  41.272341      0.198558\n",
       "4   0.495000  42.118908      0.443653\n",
       "5   0.314000  41.231968      0.242364\n",
       "6   0.540000  42.511164      0.282945\n",
       "7   0.671000  42.982007      0.120546\n",
       "8   0.570000  42.489110      0.388953\n",
       "9   0.093149  38.280914      0.114454\n",
       "10  0.279455  40.501284      0.138725\n",
       "11  0.401000  42.554620      0.369894\n",
       "12  1.129939  38.536597      0.216218\n",
       "13  0.402460  41.911147      0.211278\n",
       "14  0.042233  36.336460      0.167174\n",
       "15  1.265000  44.944111      0.235470\n",
       "16  0.240000  40.742192      0.402844\n",
       "17  0.322668  44.102787      0.224459\n",
       "18  0.054600  36.609559      0.176655\n",
       "19  0.369000  41.634023      0.152644\n",
       "20  0.032500  35.813091      0.170395\n",
       "21  0.216000  40.556047      0.244100\n",
       "22  0.129900  38.979185      0.129445\n",
       "23  0.204980  40.024500      0.123527\n",
       "24  0.080048  37.685709      0.101968\n",
       "25  0.025100  34.948275      0.179223\n",
       "26  0.781000  43.437230      0.321349\n",
       "27  0.435096  41.676165      0.289060\n",
       "28  0.763089  44.232666      0.272904\n",
       "29  0.854000  43.608464      0.225570\n",
       "30  0.211587  40.560324      0.159325\n",
       "31  0.035720  35.960541      0.171187\n",
       "32  0.772000  43.509994      0.218835\n",
       "33  0.122290  42.111088      0.319912\n",
       "34  0.022100  34.911550      0.189961\n",
       "35  0.089019  37.828453      0.117433\n",
       "36  0.792338  41.554697      0.255928\n",
       "37  0.015000  34.111411      0.213389\n",
       "38  0.592000  44.152355      0.717963\n",
       "39  0.018700  35.048300      0.197197\n",
       "40  0.532000  42.565816      0.166651\n",
       "41  0.357800  41.434910      0.136096\n",
       "42  0.631000  42.377383      0.244974\n",
       "43  0.192150  40.039218      0.121087\n",
       "44  0.575485  40.158811      0.176556\n",
       "45  0.402460  41.911147      0.211278\n",
       "46  0.905000  43.638740      0.257468\n",
       "47  0.821000  43.640939      0.194014\n",
       "48  0.015000  34.379773      0.217349\n",
       "49  0.015300  34.707186      0.213243"
      ]
     },
     "execution_count": 3,
     "metadata": {},
     "output_type": "execute_result"
    }
   ],
   "source": [
    "dataset = pd.read_csv('sn-data.csv')\n",
    "dataset"
   ]
  },
  {
   "cell_type": "markdown",
   "metadata": {},
   "source": [
    "The data is splitted into numpy arrays. This will come in handy in the future"
   ]
  },
  {
   "cell_type": "code",
   "execution_count": 4,
   "metadata": {},
   "outputs": [],
   "source": [
    "x_data = np.array(dataset.redshift)\n",
    "y_data = np.array(dataset.dist_mod)\n",
    "y_error = np.array(dataset.err_dist_mod)"
   ]
  },
  {
   "cell_type": "markdown",
   "metadata": {},
   "source": [
    "A simple visualization of the data is shown."
   ]
  },
  {
   "cell_type": "code",
   "execution_count": 5,
   "metadata": {
    "scrolled": false
   },
   "outputs": [
    {
     "data": {
      "text/plain": [
       "Text(0, 0.5, 'Distance Modulus $(\\\\mu)$')"
      ]
     },
     "execution_count": 5,
     "metadata": {},
     "output_type": "execute_result"
    },
    {
     "data": {
      "image/png": "[encoded data removed]",
      "text/plain": [
       "<Figure size 576x432 with 1 Axes>"
      ]
     },
     "metadata": {},
     "output_type": "display_data"
    }
   ],
   "source": [
    "from astropy.visualization import astropy_mpl_style\n",
    "plt.style.use(astropy_mpl_style)\n",
    "\n",
    "fig, ax = plt.subplots()\n",
    "\n",
    "ax.errorbar(x_data, y_data, y_error, lw=0, elinewidth=1.4)\n",
    "ax.scatter(x_data, y_data, s=20, marker='o')\n",
    "ax.set_title('Visualization of the data')\n",
    "ax.set_xlabel('Redshift $(z)$')\n",
    "ax.set_ylabel('Distance Modulus $(\\mu)$')"
   ]
  },
  {
   "cell_type": "markdown",
   "metadata": {},
   "source": [
    "## **Problem 1**"
   ]
  },
  {
   "cell_type": "markdown",
   "metadata": {},
   "source": [
    "The sample is splitted into train and test samples. The  [train_test_split](https://scikit-learn.org/stable/modules/generated/sklearn.model_selection.train_test_split.html) function from scikit-learn is used. The size of each test sample will be 60%."
   ]
  },
  {
   "cell_type": "code",
   "execution_count": 6,
   "metadata": {},
   "outputs": [],
   "source": [
    "from sklearn.model_selection import train_test_split\n",
    "\n",
    "x_train, x_test, y_train, y_test = train_test_split(\n",
    "    x_data, y_data, test_size=.4)"
   ]
  },
  {
   "cell_type": "markdown",
   "metadata": {},
   "source": [
    "### Part 1. Polynomial Regression\n",
    "\n",
    "The first thing to notice, is that a polynomial regression problem can be understand as a linear regression one. For example, if a one dimension polynomial of order $n$ needs to be fitted, a new set of features $(\\vec{z})$ can be used instead:\n",
    "\n",
    "$\\hat{y}(x) = \\sum_{i=1}^n a_i\\cdot x^i$\n",
    "\n",
    "$\\vec{z} = [x,x^2,x^3,...\\,,x^n]$\n",
    "\n",
    "The new polynomial is:\n",
    "\n",
    "$\\hat{y}(x) = \\sum_{i=1}^n a_i\\cdot z_i$\n",
    "\n",
    "To write the new set of parameters and apply the regression, the [*PolynomialFeatures*](https://scikit-learn.org/stable/modules/generated/sklearn.preprocessing.PolynomialFeatures.html) and [*LinearRegression*](https://scikit-learn.org/stable/modules/generated/sklearn.linear_model.LinearRegression.html) classes of scikit-learn will be used. The latter, fits a linear model to minimize the residual sum of squares (RSS), and this is equivalent to finding the maximum likelihood estimator (MLE)\n",
    "\n"
   ]
  },
  {
   "cell_type": "markdown",
   "metadata": {},
   "source": [
    "Exploration by hand was made to find that an appropiate order for the polynomial is four. For some training samples polynomials of degree less than four were a lot more inconsistent, especially for the points with higher redshift. And since increasing the order may lead to an increase in the rms error, the four will be used."
   ]
  },
  {
   "cell_type": "code",
   "execution_count": 7,
   "metadata": {},
   "outputs": [
    {
     "data": {
      "text/plain": [
       "LinearRegression()"
      ]
     },
     "execution_count": 7,
     "metadata": {},
     "output_type": "execute_result"
    }
   ],
   "source": [
    "from sklearn.preprocessing import PolynomialFeatures\n",
    "from sklearn import linear_model\n",
    "\n",
    "pol_order = 4  # Order of the polynomial\n",
    "\n",
    "# Reshape is needed for the implementation of PolynomialFeatures\n",
    "x_train = x_train.reshape(-1, 1)\n",
    "x_test = x_test.reshape(-1, 1)\n",
    "\n",
    "poly = PolynomialFeatures(degree=pol_order)  # All combination of features\n",
    "\n",
    "# New set of features\n",
    "z_train = poly.fit_transform(x_train)\n",
    "z_test = poly.fit_transform(x_test)\n",
    "\n",
    "# Linear Regression of the new variable\n",
    "lin_reg = linear_model.LinearRegression()\n",
    "lin_reg.fit(z_train, y_train)"
   ]
  },
  {
   "cell_type": "markdown",
   "metadata": {},
   "source": [
    "Next, a plot is made to visualize the estimator."
   ]
  },
  {
   "cell_type": "code",
   "execution_count": 8,
   "metadata": {},
   "outputs": [
    {
     "data": {
      "text/plain": [
       "<matplotlib.legend.Legend at 0x26c81aeadf0>"
      ]
     },
     "execution_count": 8,
     "metadata": {},
     "output_type": "execute_result"
    },
    {
     "data": {
      "image/png": "[encoded data removed]",
      "text/plain": [
       "<Figure size 576x432 with 1 Axes>"
      ]
     },
     "metadata": {},
     "output_type": "display_data"
    }
   ],
   "source": [
    "# Reshape to be consistent with the estimator\n",
    "x_2plot_sorted = np.sort(x_data, axis=0).reshape(-1, 1)\n",
    "\n",
    "# Predicted points by the estimator\n",
    "y_pred = lin_reg.predict(poly.fit_transform(x_2plot_sorted))\n",
    "\n",
    "fig, ax = plt.subplots()\n",
    "\n",
    "ax.scatter(x_data, y_data, c='k', label='sn-data')\n",
    "ax.plot(x_2plot_sorted, y_pred, c='r',\n",
    "        label='Polynomial of order {}'.format(pol_order))\n",
    "\n",
    "ax.set_title('Polynomial Regression')\n",
    "ax.set_xlabel('Redshift $(z)$')\n",
    "ax.set_ylabel('Distance Modulus $(\\mu)$')\n",
    "ax.legend()"
   ]
  },
  {
   "cell_type": "markdown",
   "metadata": {},
   "source": [
    "To obtain more information about the estimator, the coefficients, mean squared error and the coefficient of determination are calculated."
   ]
  },
  {
   "cell_type": "code",
   "execution_count": 9,
   "metadata": {},
   "outputs": [
    {
     "name": "stdout",
     "output_type": "stream",
     "text": [
      "Coefficients:  [  0.          33.96591631 -43.824927    15.21824112   1.79525205]\n",
      "Mean squared error: 1.14\n",
      "Coefficient of determination: 0.90\n"
     ]
    }
   ],
   "source": [
    "from sklearn.metrics import mean_squared_error, r2_score\n",
    "\n",
    "y_pred = lin_reg.predict(poly.fit_transform(x_test))\n",
    "\n",
    "# The coefficients\n",
    "poly_coef = lin_reg.coef_\n",
    "print(\"Coefficients: \", poly_coef)\n",
    "\n",
    "# The mean squared error\n",
    "poly_mse = mean_squared_error(y_test, y_pred)\n",
    "print(\"Mean squared error: %.2f\" % poly_mse)\n",
    "\n",
    "# The coefficient of determination: 1 is perfect prediction\n",
    "poly_r2 = r2_score(y_test, y_pred)\n",
    "print(\"Coefficient of determination: %.2f\" % poly_r2)"
   ]
  },
  {
   "cell_type": "markdown",
   "metadata": {},
   "source": [
    "### Part 2. Ridge and Lasso Regression\n",
    "\n",
    "The [Ridge](https://scikit-learn.org/stable/modules/generated/sklearn.linear_model.Ridge.html?highlight=ridge#sklearn.linear_model.Ridge) and [Lasso Regression](https://scikit-learn.org/stable/modules/generated/sklearn.linear_model.Lasso.html?highlight=lasso#sklearn.linear_model.Lasso) implemented in scikit-learn will be used. The order chosen in the previous part will be used here aswell."
   ]
  },
  {
   "cell_type": "markdown",
   "metadata": {},
   "source": [
    "#### Ridge Regression"
   ]
  },
  {
   "cell_type": "markdown",
   "metadata": {},
   "source": [
    "Exploration by hand was made for the penalizing parameter $(\\alpha)$ and for values greater than 1 the estimator was nos close to the data. For an $\\alpha=0.0001$, (and lower) the mean square error seems to reach a limit, so that one will be used."
   ]
  },
  {
   "cell_type": "code",
   "execution_count": 10,
   "metadata": {},
   "outputs": [
    {
     "data": {
      "text/plain": [
       "Ridge(alpha=0.0001)"
      ]
     },
     "execution_count": 10,
     "metadata": {},
     "output_type": "execute_result"
    }
   ],
   "source": [
    "from sklearn.linear_model import Ridge\n",
    "\n",
    "ridge_reg = linear_model.Ridge(alpha=.0001)\n",
    "ridge_reg.fit(z_train, y_train)"
   ]
  },
  {
   "cell_type": "code",
   "execution_count": 11,
   "metadata": {},
   "outputs": [
    {
     "data": {
      "text/plain": [
       "<matplotlib.legend.Legend at 0x26c81bc0100>"
      ]
     },
     "execution_count": 11,
     "metadata": {},
     "output_type": "execute_result"
    },
    {
     "data": {
      "image/png": "[encoded data removed]",
      "text/plain": [
       "<Figure size 576x432 with 1 Axes>"
      ]
     },
     "metadata": {},
     "output_type": "display_data"
    }
   ],
   "source": [
    "# Reshape to be consistent with the estimator\n",
    "x_2plot_sorted = np.sort(x_data, axis=0).reshape(-1, 1)\n",
    "\n",
    "# Predicted points by the estimator\n",
    "y_pred = ridge_reg.predict(poly.fit_transform(x_2plot_sorted))\n",
    "\n",
    "fig, ax = plt.subplots()\n",
    "\n",
    "ax.scatter(x_data, y_data, c='k', label='sn-data')\n",
    "ax.plot(x_2plot_sorted, y_pred, c='r', label='Ridge')\n",
    "\n",
    "ax.set_title('Ridge Regression')\n",
    "ax.set_xlabel('Redshift $(z)$')\n",
    "ax.set_ylabel('Distance Modulus $(\\mu)$')\n",
    "ax.legend()"
   ]
  },
  {
   "cell_type": "code",
   "execution_count": 12,
   "metadata": {},
   "outputs": [
    {
     "name": "stdout",
     "output_type": "stream",
     "text": [
      "Coefficients:  [  0.          33.96591631 -43.824927    15.21824112   1.79525205]\n",
      "Mean squared error: 1.14\n",
      "Coefficient of determination: 0.90\n"
     ]
    }
   ],
   "source": [
    "y_pred = lin_reg.predict(poly.fit_transform(x_test))\n",
    "\n",
    "# The coefficients\n",
    "ridge_coef = lin_reg.coef_\n",
    "print(\"Coefficients: \", ridge_coef)\n",
    "\n",
    "# The mean squared error\n",
    "ridge_mse = mean_squared_error(y_test, y_pred)\n",
    "print(\"Mean squared error: %.2f\" % ridge_mse)\n",
    "\n",
    "# The coefficient of determination: 1 is perfect prediction\n",
    "ridge_r2 = r2_score(y_test, y_pred)\n",
    "print(\"Coefficient of determination: %.2f\" % ridge_r2)"
   ]
  },
  {
   "cell_type": "markdown",
   "metadata": {},
   "source": [
    "#### Lasso Regression"
   ]
  },
  {
   "cell_type": "markdown",
   "metadata": {},
   "source": [
    "The same value for $\\alpha$ used in the Ridge Regression is used."
   ]
  },
  {
   "cell_type": "code",
   "execution_count": 13,
   "metadata": {},
   "outputs": [
    {
     "name": "stderr",
     "output_type": "stream",
     "text": [
      "C:\\Users\\vikap\\anaconda3\\lib\\site-packages\\sklearn\\linear_model\\_coordinate_descent.py:530: ConvergenceWarning: Objective did not converge. You might want to increase the number of iterations. Duality gap: 4.742815856317577, tolerance: 0.027251788487590415\n",
      "  model = cd_fast.enet_coordinate_descent(\n"
     ]
    },
    {
     "data": {
      "text/plain": [
       "Lasso(alpha=0.0001)"
      ]
     },
     "execution_count": 13,
     "metadata": {},
     "output_type": "execute_result"
    }
   ],
   "source": [
    "from sklearn.linear_model import Lasso\n",
    "\n",
    "lasso_reg = linear_model.Lasso(alpha=.0001)\n",
    "lasso_reg.fit(z_train, y_train)"
   ]
  },
  {
   "cell_type": "code",
   "execution_count": 14,
   "metadata": {},
   "outputs": [
    {
     "data": {
      "text/plain": [
       "<matplotlib.legend.Legend at 0x26c82bdc970>"
      ]
     },
     "execution_count": 14,
     "metadata": {},
     "output_type": "execute_result"
    },
    {
     "data": {
      "image/png": "[encoded data removed]",
      "text/plain": [
       "<Figure size 576x432 with 1 Axes>"
      ]
     },
     "metadata": {},
     "output_type": "display_data"
    }
   ],
   "source": [
    "# Reshape to be consistent with the estimator\n",
    "x_2plot_sorted = np.sort(x_data, axis=0).reshape(-1, 1)\n",
    "\n",
    "# Predicted points by the estimator\n",
    "y_pred = lasso_reg.predict(poly.fit_transform(x_2plot_sorted))\n",
    "\n",
    "fig, ax = plt.subplots()\n",
    "\n",
    "ax.scatter(x_data, y_data, c='k', label='sn-data')\n",
    "ax.plot(x_2plot_sorted, y_pred, c='r', label='Lasso')\n",
    "\n",
    "ax.set_title('Lasso Regression')\n",
    "ax.set_xlabel('Redshift $(z)$')\n",
    "ax.set_ylabel('Distance Modulus $(\\mu)$')\n",
    "ax.legend()"
   ]
  },
  {
   "cell_type": "code",
   "execution_count": 15,
   "metadata": {},
   "outputs": [
    {
     "name": "stdout",
     "output_type": "stream",
     "text": [
      "Coefficients:  [  0.          33.96591631 -43.824927    15.21824112   1.79525205]\n",
      "Mean squared error: 1.22\n",
      "Coefficient of determination: 0.89\n"
     ]
    }
   ],
   "source": [
    "y_pred = lasso_reg.predict(poly.fit_transform(x_test.reshape(-1, 1)))\n",
    "\n",
    "# The coefficients\n",
    "lasso_coef = lin_reg.coef_\n",
    "print(\"Coefficients: \", lasso_coef)\n",
    "\n",
    "# The mean squared error\n",
    "lasso_mse = mean_squared_error(y_test, y_pred)\n",
    "print(\"Mean squared error: %.2f\" % lasso_mse)\n",
    "\n",
    "# The coefficient of determination: 1 is perfect prediction\n",
    "lasso_r2 = r2_score(y_test, y_pred)\n",
    "print(\"Coefficient of determination: %.2f\" % lasso_r2)"
   ]
  },
  {
   "cell_type": "markdown",
   "metadata": {},
   "source": [
    "#### Comparison between polynomial, Ridge and Lasso regressions"
   ]
  },
  {
   "cell_type": "markdown",
   "metadata": {},
   "source": [
    "A plot with all the regressions is made."
   ]
  },
  {
   "cell_type": "code",
   "execution_count": 16,
   "metadata": {},
   "outputs": [
    {
     "data": {
      "text/plain": [
       "<matplotlib.legend.Legend at 0x26c82cc2490>"
      ]
     },
     "execution_count": 16,
     "metadata": {},
     "output_type": "execute_result"
    },
    {
     "data": {
      "image/png": "[encoded data removed]",
      "text/plain": [
       "<Figure size 576x432 with 1 Axes>"
      ]
     },
     "metadata": {},
     "output_type": "display_data"
    }
   ],
   "source": [
    "# Reshape to be consistent with the estimator\n",
    "x_2plot_sorted = np.sort(x_data, axis=0).reshape(-1, 1)\n",
    "\n",
    "fig, ax = plt.subplots()\n",
    "\n",
    "ax.scatter(x_data, y_data, c='k', label='sn-data')\n",
    "ax.plot(x_2plot_sorted, lin_reg.predict(poly.fit_transform(\n",
    "    x_2plot_sorted)), c='r', label='Polynomial of order {}'.format(pol_order))\n",
    "ax.plot(x_2plot_sorted, ridge_reg.predict(poly.fit_transform(\n",
    "    x_2plot_sorted)), c='g', label='Ridge Regression')\n",
    "ax.plot(x_2plot_sorted, lasso_reg.predict(poly.fit_transform(\n",
    "    x_2plot_sorted)), c='purple', label='Lasso Regression')\n",
    "\n",
    "ax.set_title('Comparison')\n",
    "ax.set_xlabel('Redshift $(z)$')\n",
    "ax.set_ylabel('Distance Modulus $(\\mu)$')\n",
    "ax.legend()"
   ]
  },
  {
   "cell_type": "markdown",
   "metadata": {},
   "source": [
    "I want to compare mse and coefficient of determination but in a dataframe/table"
   ]
  },
  {
   "cell_type": "code",
   "execution_count": 17,
   "metadata": {},
   "outputs": [
    {
     "data": {
      "text/html": [
       "<div>\n",
       "<style scoped>\n",
       "    .dataframe tbody tr th:only-of-type {\n",
       "        vertical-align: middle;\n",
       "    }\n",
       "\n",
       "    .dataframe tbody tr th {\n",
       "        vertical-align: top;\n",
       "    }\n",
       "\n",
       "    .dataframe thead th {\n",
       "        text-align: right;\n",
       "    }\n",
       "</style>\n",
       "<table border=\"1\" class=\"dataframe\">\n",
       "  <thead>\n",
       "    <tr style=\"text-align: right;\">\n",
       "      <th></th>\n",
       "      <th>Regression</th>\n",
       "      <th>Mean Square Error</th>\n",
       "      <th>$r^2$</th>\n",
       "    </tr>\n",
       "  </thead>\n",
       "  <tbody>\n",
       "    <tr>\n",
       "      <th>0</th>\n",
       "      <td>Polynomial</td>\n",
       "      <td>1.143925</td>\n",
       "      <td>0.901257</td>\n",
       "    </tr>\n",
       "    <tr>\n",
       "      <th>1</th>\n",
       "      <td>Ridge</td>\n",
       "      <td>1.143925</td>\n",
       "      <td>0.901257</td>\n",
       "    </tr>\n",
       "    <tr>\n",
       "      <th>2</th>\n",
       "      <td>Lasso</td>\n",
       "      <td>1.221615</td>\n",
       "      <td>0.894551</td>\n",
       "    </tr>\n",
       "  </tbody>\n",
       "</table>\n",
       "</div>"
      ],
      "text/plain": [
       "   Regression  Mean Square Error     $r^2$\n",
       "0  Polynomial           1.143925  0.901257\n",
       "1       Ridge           1.143925  0.901257\n",
       "2       Lasso           1.221615  0.894551"
      ]
     },
     "execution_count": 17,
     "metadata": {},
     "output_type": "execute_result"
    }
   ],
   "source": [
    "d = {'Regression': ['Polynomial', 'Ridge', 'Lasso'], 'Mean Square Error': [\n",
    "    poly_mse, ridge_mse, lasso_mse], r'$r^2$': [poly_r2, ridge_r2, lasso_r2]}\n",
    "\n",
    "df = pd.DataFrame(data=d)\n",
    "df"
   ]
  },
  {
   "cell_type": "markdown",
   "metadata": {},
   "source": [
    "### Part 3. Huber loss regression."
   ]
  },
  {
   "cell_type": "markdown",
   "metadata": {},
   "source": [
    "To find the hyper-parameter, a list of epsilons is created to compare the estimators and the same penalizing parameter $(\\alpha)$ is used."
   ]
  },
  {
   "cell_type": "code",
   "execution_count": 18,
   "metadata": {},
   "outputs": [
    {
     "data": {
      "text/plain": [
       "<matplotlib.legend.Legend at 0x26c82d21ac0>"
      ]
     },
     "execution_count": 18,
     "metadata": {},
     "output_type": "execute_result"
    },
    {
     "data": {
      "image/png": "[encoded data removed]",
      "text/plain": [
       "<Figure size 576x432 with 1 Axes>"
      ]
     },
     "metadata": {},
     "output_type": "display_data"
    }
   ],
   "source": [
    "from sklearn.linear_model import HuberRegressor\n",
    "\n",
    "x_2plot_sorted = np.sort(x_data, axis=0).reshape(-1, 1)\n",
    "\n",
    "epsilon_values = np.linspace(1, 2, 6)\n",
    "\n",
    "fig, ax = plt.subplots()\n",
    "ax.scatter(x_data, y_data, c='black', label='sn-data')\n",
    "\n",
    "colors = ['r', 'b', 'y', 'm', 'g', 'c']\n",
    "\n",
    "for i, epsilon in enumerate(epsilon_values):\n",
    "    huber_reg = HuberRegressor(epsilon=epsilon, alpha=.0001)\n",
    "    huber_reg.fit(z_train, y_train)\n",
    "    ax.plot(x_2plot_sorted, huber_reg.predict(poly.fit_transform(x_2plot_sorted)),\n",
    "            c=colors[i], label='$\\epsilon\\,=${:.3f}'.format(epsilon))\n",
    "\n",
    "ax.set_title('Huber Regression')\n",
    "ax.set_xlabel('Redshift $(z)$')\n",
    "ax.set_ylabel('Distance Modulus $(\\mu)$')\n",
    "ax.legend()"
   ]
  },
  {
   "cell_type": "markdown",
   "metadata": {},
   "source": [
    "In the documentation for the [Huber Regression](https://scikit-learn.org/stable/modules/generated/sklearn.linear_model.HuberRegressor.html?highlight=huber#sklearn.linear_model.HuberRegressor), the smaller the epsilon the more robust is the estimator to outliers, but has to be greater than 1. So, the $\\epsilon=1$ shouldn't be considered and for the rest, it's really hard to notice significative differences.\n",
    "\n",
    "With those two things in mind, the value for the parameter that will be used is $\\epsilon=1.2$"
   ]
  },
  {
   "cell_type": "markdown",
   "metadata": {},
   "source": [
    "## **Problem 2**"
   ]
  },
  {
   "cell_type": "markdown",
   "metadata": {},
   "source": [
    "The function is defined. Since the calculation of an integral is needed, quad is imported."
   ]
  },
  {
   "cell_type": "code",
   "execution_count": 19,
   "metadata": {},
   "outputs": [],
   "source": [
    "import emcee"
   ]
  },
  {
   "cell_type": "code",
   "execution_count": 20,
   "metadata": {},
   "outputs": [],
   "source": [
    "from scipy.integrate import quad\n",
    "from astropy.constants import c\n",
    "\n",
    "c = c.value\n",
    "\n",
    "\n",
    "def mu(z, H_0, Omega_m, Omega_lambda):\n",
    "    log_arg = (1 + z) * c / H_0 * integral(z, Omega_m, Omega_lambda)\n",
    "    output = -5 * np.log10(log_arg)\n",
    "    return output\n",
    "\n",
    "\n",
    "def integral(z, Omega_m, Omega_lambda):\n",
    "    integrand = np.sqrt(Omega_m * (1 + z)**3 + Omega_lambda)\n",
    "    output = quad(integrand, 0, z)\n",
    "    return output"
   ]
  },
  {
   "cell_type": "code",
   "execution_count": 21,
   "metadata": {},
   "outputs": [],
   "source": [
    "# Redefine these arrays, in case of a previous modification\n",
    "\n",
    "x_data = np.array(dataset.redshift)\n",
    "y_data = np.array(dataset.dist_mod)\n",
    "y_error = np.array(dataset.err_dist_mod)"
   ]
  },
  {
   "cell_type": "markdown",
   "metadata": {},
   "source": [
    "The idea is to use MCMC, in the same way that was seen in classes, but the model is different."
   ]
  },
  {
   "cell_type": "code",
   "execution_count": 22,
   "metadata": {},
   "outputs": [],
   "source": [
    "def ln_prior(theta):\n",
    "    H_0, Omega_m, Omega_lambda, Pb, Yb, logVb = theta\n",
    "    # Vb is a variance, so it should be positive, that's why the logVb\n",
    "    if -10 < H_0 < 10 and -100 < Omega_m < 500 and -100 < Omega_lambda < 500 and 0 < Pb < 1 and 0 < Yb < 2000 and -2 < logVb < 10:\n",
    "        return 0\n",
    "    return -np.inf\n",
    "\n",
    "\n",
    "def ln_likelihood(theta, x, y, yerr):\n",
    "    H_0, Omega_m, Omega_lambda, Pb, Yb, logVb = theta\n",
    "    Vb = 10**logVb\n",
    "    model = mu(x, H_0, Omega_m, Omega_lambda)\n",
    "    p_fg = (1-Pb) / np.sqrt(2 * np.pi * yerr**2) * \\\n",
    "        np.exp(-(y-model)**2/(2 * yerr**2))\n",
    "    p_bg = Pb / np.sqrt(2 * np.pi * (Vb + yerr**2)) * \\\n",
    "        np.exp(-(y - Yb)**2/(2 * (Vb + yerr**2)))\n",
    "    output = np.sum(np.log(p_fg + p_bg))\n",
    "    return output\n",
    "\n",
    "\n",
    "def ln_posterior(theta, x, y, yerr):\n",
    "    ln_p = ln_prior(theta)\n",
    "    if not np.isfinite(ln_p):\n",
    "        return -np.inf\n",
    "    return ln_p + ln_likelihood(theta, x, y, yerr)"
   ]
  },
  {
   "cell_type": "code",
   "execution_count": 23,
   "metadata": {},
   "outputs": [],
   "source": [
    "np.random.seed(4242)\n",
    "\n",
    "# that is (H_0, Omega_m, Omega_lambda, Pb, Yb, logVb)\n",
    "theta_0 = np.array([1., 200., 200., 0.3, 400, 1.])\n",
    "\n",
    "ndim, nwalkers = 6, 64\n",
    "pos_0 = [theta_0 + 0.1*np.random.randn(ndim) for i in range(nwalkers)]\n",
    "\n",
    "sampler = emcee.EnsembleSampler(nwalkers, ndim, ln_posterior, args=(\n",
    "    x_data[i], y_data[i], y_error[i]), threads=8)"
   ]
  },
  {
   "cell_type": "code",
   "execution_count": 24,
   "metadata": {
    "scrolled": true
   },
   "outputs": [
    {
     "ename": "NameError",
     "evalue": "name 'samplers' is not defined",
     "output_type": "error",
     "traceback": [
      "\u001b[1;31m---------------------------------------------------------------------------\u001b[0m",
      "\u001b[1;31mNameError\u001b[0m                                 Traceback (most recent call last)",
      "\u001b[1;32m~\\AppData\\Local\\Temp/ipykernel_3744/756741236.py\u001b[0m in \u001b[0;36m<module>\u001b[1;34m\u001b[0m\n\u001b[1;32m----> 1\u001b[1;33m \u001b[0mget_ipython\u001b[0m\u001b[1;33m(\u001b[0m\u001b[1;33m)\u001b[0m\u001b[1;33m.\u001b[0m\u001b[0mrun_line_magic\u001b[0m\u001b[1;33m(\u001b[0m\u001b[1;34m'timeit'\u001b[0m\u001b[1;33m,\u001b[0m \u001b[1;34m'-n1 -r1 samplers[1].run_mcmc(pos_0, 1000);'\u001b[0m\u001b[1;33m)\u001b[0m\u001b[1;33m\u001b[0m\u001b[1;33m\u001b[0m\u001b[0m\n\u001b[0m",
      "\u001b[1;32m~\\anaconda3\\lib\\site-packages\\IPython\\core\\interactiveshell.py\u001b[0m in \u001b[0;36mrun_line_magic\u001b[1;34m(self, magic_name, line, _stack_depth)\u001b[0m\n\u001b[0;32m   2349\u001b[0m                 \u001b[0mkwargs\u001b[0m\u001b[1;33m[\u001b[0m\u001b[1;34m'local_ns'\u001b[0m\u001b[1;33m]\u001b[0m \u001b[1;33m=\u001b[0m \u001b[0mself\u001b[0m\u001b[1;33m.\u001b[0m\u001b[0mget_local_scope\u001b[0m\u001b[1;33m(\u001b[0m\u001b[0mstack_depth\u001b[0m\u001b[1;33m)\u001b[0m\u001b[1;33m\u001b[0m\u001b[1;33m\u001b[0m\u001b[0m\n\u001b[0;32m   2350\u001b[0m             \u001b[1;32mwith\u001b[0m \u001b[0mself\u001b[0m\u001b[1;33m.\u001b[0m\u001b[0mbuiltin_trap\u001b[0m\u001b[1;33m:\u001b[0m\u001b[1;33m\u001b[0m\u001b[1;33m\u001b[0m\u001b[0m\n\u001b[1;32m-> 2351\u001b[1;33m                 \u001b[0mresult\u001b[0m \u001b[1;33m=\u001b[0m \u001b[0mfn\u001b[0m\u001b[1;33m(\u001b[0m\u001b[1;33m*\u001b[0m\u001b[0margs\u001b[0m\u001b[1;33m,\u001b[0m \u001b[1;33m**\u001b[0m\u001b[0mkwargs\u001b[0m\u001b[1;33m)\u001b[0m\u001b[1;33m\u001b[0m\u001b[1;33m\u001b[0m\u001b[0m\n\u001b[0m\u001b[0;32m   2352\u001b[0m             \u001b[1;32mreturn\u001b[0m \u001b[0mresult\u001b[0m\u001b[1;33m\u001b[0m\u001b[1;33m\u001b[0m\u001b[0m\n\u001b[0;32m   2353\u001b[0m \u001b[1;33m\u001b[0m\u001b[0m\n",
      "\u001b[1;32m~\\anaconda3\\lib\\site-packages\\decorator.py\u001b[0m in \u001b[0;36mfun\u001b[1;34m(*args, **kw)\u001b[0m\n\u001b[0;32m    230\u001b[0m             \u001b[1;32mif\u001b[0m \u001b[1;32mnot\u001b[0m \u001b[0mkwsyntax\u001b[0m\u001b[1;33m:\u001b[0m\u001b[1;33m\u001b[0m\u001b[1;33m\u001b[0m\u001b[0m\n\u001b[0;32m    231\u001b[0m                 \u001b[0margs\u001b[0m\u001b[1;33m,\u001b[0m \u001b[0mkw\u001b[0m \u001b[1;33m=\u001b[0m \u001b[0mfix\u001b[0m\u001b[1;33m(\u001b[0m\u001b[0margs\u001b[0m\u001b[1;33m,\u001b[0m \u001b[0mkw\u001b[0m\u001b[1;33m,\u001b[0m \u001b[0msig\u001b[0m\u001b[1;33m)\u001b[0m\u001b[1;33m\u001b[0m\u001b[1;33m\u001b[0m\u001b[0m\n\u001b[1;32m--> 232\u001b[1;33m             \u001b[1;32mreturn\u001b[0m \u001b[0mcaller\u001b[0m\u001b[1;33m(\u001b[0m\u001b[0mfunc\u001b[0m\u001b[1;33m,\u001b[0m \u001b[1;33m*\u001b[0m\u001b[1;33m(\u001b[0m\u001b[0mextras\u001b[0m \u001b[1;33m+\u001b[0m \u001b[0margs\u001b[0m\u001b[1;33m)\u001b[0m\u001b[1;33m,\u001b[0m \u001b[1;33m**\u001b[0m\u001b[0mkw\u001b[0m\u001b[1;33m)\u001b[0m\u001b[1;33m\u001b[0m\u001b[1;33m\u001b[0m\u001b[0m\n\u001b[0m\u001b[0;32m    233\u001b[0m     \u001b[0mfun\u001b[0m\u001b[1;33m.\u001b[0m\u001b[0m__name__\u001b[0m \u001b[1;33m=\u001b[0m \u001b[0mfunc\u001b[0m\u001b[1;33m.\u001b[0m\u001b[0m__name__\u001b[0m\u001b[1;33m\u001b[0m\u001b[1;33m\u001b[0m\u001b[0m\n\u001b[0;32m    234\u001b[0m     \u001b[0mfun\u001b[0m\u001b[1;33m.\u001b[0m\u001b[0m__doc__\u001b[0m \u001b[1;33m=\u001b[0m \u001b[0mfunc\u001b[0m\u001b[1;33m.\u001b[0m\u001b[0m__doc__\u001b[0m\u001b[1;33m\u001b[0m\u001b[1;33m\u001b[0m\u001b[0m\n",
      "\u001b[1;32m~\\anaconda3\\lib\\site-packages\\IPython\\core\\magic.py\u001b[0m in \u001b[0;36m<lambda>\u001b[1;34m(f, *a, **k)\u001b[0m\n\u001b[0;32m    185\u001b[0m     \u001b[1;31m# but it's overkill for just that one bit of state.\u001b[0m\u001b[1;33m\u001b[0m\u001b[1;33m\u001b[0m\u001b[0m\n\u001b[0;32m    186\u001b[0m     \u001b[1;32mdef\u001b[0m \u001b[0mmagic_deco\u001b[0m\u001b[1;33m(\u001b[0m\u001b[0marg\u001b[0m\u001b[1;33m)\u001b[0m\u001b[1;33m:\u001b[0m\u001b[1;33m\u001b[0m\u001b[1;33m\u001b[0m\u001b[0m\n\u001b[1;32m--> 187\u001b[1;33m         \u001b[0mcall\u001b[0m \u001b[1;33m=\u001b[0m \u001b[1;32mlambda\u001b[0m \u001b[0mf\u001b[0m\u001b[1;33m,\u001b[0m \u001b[1;33m*\u001b[0m\u001b[0ma\u001b[0m\u001b[1;33m,\u001b[0m \u001b[1;33m**\u001b[0m\u001b[0mk\u001b[0m\u001b[1;33m:\u001b[0m \u001b[0mf\u001b[0m\u001b[1;33m(\u001b[0m\u001b[1;33m*\u001b[0m\u001b[0ma\u001b[0m\u001b[1;33m,\u001b[0m \u001b[1;33m**\u001b[0m\u001b[0mk\u001b[0m\u001b[1;33m)\u001b[0m\u001b[1;33m\u001b[0m\u001b[1;33m\u001b[0m\u001b[0m\n\u001b[0m\u001b[0;32m    188\u001b[0m \u001b[1;33m\u001b[0m\u001b[0m\n\u001b[0;32m    189\u001b[0m         \u001b[1;32mif\u001b[0m \u001b[0mcallable\u001b[0m\u001b[1;33m(\u001b[0m\u001b[0marg\u001b[0m\u001b[1;33m)\u001b[0m\u001b[1;33m:\u001b[0m\u001b[1;33m\u001b[0m\u001b[1;33m\u001b[0m\u001b[0m\n",
      "\u001b[1;32m~\\anaconda3\\lib\\site-packages\\IPython\\core\\magics\\execution.py\u001b[0m in \u001b[0;36mtimeit\u001b[1;34m(self, line, cell, local_ns)\u001b[0m\n\u001b[0;32m   1171\u001b[0m                     \u001b[1;32mbreak\u001b[0m\u001b[1;33m\u001b[0m\u001b[1;33m\u001b[0m\u001b[0m\n\u001b[0;32m   1172\u001b[0m \u001b[1;33m\u001b[0m\u001b[0m\n\u001b[1;32m-> 1173\u001b[1;33m         \u001b[0mall_runs\u001b[0m \u001b[1;33m=\u001b[0m \u001b[0mtimer\u001b[0m\u001b[1;33m.\u001b[0m\u001b[0mrepeat\u001b[0m\u001b[1;33m(\u001b[0m\u001b[0mrepeat\u001b[0m\u001b[1;33m,\u001b[0m \u001b[0mnumber\u001b[0m\u001b[1;33m)\u001b[0m\u001b[1;33m\u001b[0m\u001b[1;33m\u001b[0m\u001b[0m\n\u001b[0m\u001b[0;32m   1174\u001b[0m         \u001b[0mbest\u001b[0m \u001b[1;33m=\u001b[0m \u001b[0mmin\u001b[0m\u001b[1;33m(\u001b[0m\u001b[0mall_runs\u001b[0m\u001b[1;33m)\u001b[0m \u001b[1;33m/\u001b[0m \u001b[0mnumber\u001b[0m\u001b[1;33m\u001b[0m\u001b[1;33m\u001b[0m\u001b[0m\n\u001b[0;32m   1175\u001b[0m         \u001b[0mworst\u001b[0m \u001b[1;33m=\u001b[0m \u001b[0mmax\u001b[0m\u001b[1;33m(\u001b[0m\u001b[0mall_runs\u001b[0m\u001b[1;33m)\u001b[0m \u001b[1;33m/\u001b[0m \u001b[0mnumber\u001b[0m\u001b[1;33m\u001b[0m\u001b[1;33m\u001b[0m\u001b[0m\n",
      "\u001b[1;32m~\\anaconda3\\lib\\timeit.py\u001b[0m in \u001b[0;36mrepeat\u001b[1;34m(self, repeat, number)\u001b[0m\n\u001b[0;32m    203\u001b[0m         \u001b[0mr\u001b[0m \u001b[1;33m=\u001b[0m \u001b[1;33m[\u001b[0m\u001b[1;33m]\u001b[0m\u001b[1;33m\u001b[0m\u001b[1;33m\u001b[0m\u001b[0m\n\u001b[0;32m    204\u001b[0m         \u001b[1;32mfor\u001b[0m \u001b[0mi\u001b[0m \u001b[1;32min\u001b[0m \u001b[0mrange\u001b[0m\u001b[1;33m(\u001b[0m\u001b[0mrepeat\u001b[0m\u001b[1;33m)\u001b[0m\u001b[1;33m:\u001b[0m\u001b[1;33m\u001b[0m\u001b[1;33m\u001b[0m\u001b[0m\n\u001b[1;32m--> 205\u001b[1;33m             \u001b[0mt\u001b[0m \u001b[1;33m=\u001b[0m \u001b[0mself\u001b[0m\u001b[1;33m.\u001b[0m\u001b[0mtimeit\u001b[0m\u001b[1;33m(\u001b[0m\u001b[0mnumber\u001b[0m\u001b[1;33m)\u001b[0m\u001b[1;33m\u001b[0m\u001b[1;33m\u001b[0m\u001b[0m\n\u001b[0m\u001b[0;32m    206\u001b[0m             \u001b[0mr\u001b[0m\u001b[1;33m.\u001b[0m\u001b[0mappend\u001b[0m\u001b[1;33m(\u001b[0m\u001b[0mt\u001b[0m\u001b[1;33m)\u001b[0m\u001b[1;33m\u001b[0m\u001b[1;33m\u001b[0m\u001b[0m\n\u001b[0;32m    207\u001b[0m         \u001b[1;32mreturn\u001b[0m \u001b[0mr\u001b[0m\u001b[1;33m\u001b[0m\u001b[1;33m\u001b[0m\u001b[0m\n",
      "\u001b[1;32m~\\anaconda3\\lib\\site-packages\\IPython\\core\\magics\\execution.py\u001b[0m in \u001b[0;36mtimeit\u001b[1;34m(self, number)\u001b[0m\n\u001b[0;32m    167\u001b[0m         \u001b[0mgc\u001b[0m\u001b[1;33m.\u001b[0m\u001b[0mdisable\u001b[0m\u001b[1;33m(\u001b[0m\u001b[1;33m)\u001b[0m\u001b[1;33m\u001b[0m\u001b[1;33m\u001b[0m\u001b[0m\n\u001b[0;32m    168\u001b[0m         \u001b[1;32mtry\u001b[0m\u001b[1;33m:\u001b[0m\u001b[1;33m\u001b[0m\u001b[1;33m\u001b[0m\u001b[0m\n\u001b[1;32m--> 169\u001b[1;33m             \u001b[0mtiming\u001b[0m \u001b[1;33m=\u001b[0m \u001b[0mself\u001b[0m\u001b[1;33m.\u001b[0m\u001b[0minner\u001b[0m\u001b[1;33m(\u001b[0m\u001b[0mit\u001b[0m\u001b[1;33m,\u001b[0m \u001b[0mself\u001b[0m\u001b[1;33m.\u001b[0m\u001b[0mtimer\u001b[0m\u001b[1;33m)\u001b[0m\u001b[1;33m\u001b[0m\u001b[1;33m\u001b[0m\u001b[0m\n\u001b[0m\u001b[0;32m    170\u001b[0m         \u001b[1;32mfinally\u001b[0m\u001b[1;33m:\u001b[0m\u001b[1;33m\u001b[0m\u001b[1;33m\u001b[0m\u001b[0m\n\u001b[0;32m    171\u001b[0m             \u001b[1;32mif\u001b[0m \u001b[0mgcold\u001b[0m\u001b[1;33m:\u001b[0m\u001b[1;33m\u001b[0m\u001b[1;33m\u001b[0m\u001b[0m\n",
      "\u001b[1;32m<magic-timeit>\u001b[0m in \u001b[0;36minner\u001b[1;34m(_it, _timer)\u001b[0m\n",
      "\u001b[1;31mNameError\u001b[0m: name 'samplers' is not defined"
     ]
    }
   ],
   "source": [
    "%timeit -n1 -r1 samplers[1].run_mcmc(pos_0, 1000);"
   ]
  },
  {
   "cell_type": "markdown",
   "metadata": {},
   "source": [
    "I got really stuck in the previous error. I think what's next shouldn't be wrong"
   ]
  },
  {
   "cell_type": "code",
   "execution_count": null,
   "metadata": {},
   "outputs": [],
   "source": [
    "import matplotlib\n",
    "\n",
    "with plt.style.context('default'):\n",
    "    plt.hist2d(sampler.flatchain[:, 0], sampler.flatchain[:, 1], bins=300,\n",
    "               cmap='gray_r')\n",
    "#     plt.hist2d(sampler.flatchain[:,0], sampler.flatchain[:,1], bins=300,\n",
    "#                cmap='gray_r', norm=matplotlib.colors.LogNorm());\n",
    "    plt.xlabel('$m$')\n",
    "    plt.ylabel('$b$')\n",
    "    plt.colorbar()"
   ]
  },
  {
   "cell_type": "code",
   "execution_count": null,
   "metadata": {},
   "outputs": [],
   "source": [
    "plt.errorbar(x_data, y_data, yerr=y_error, ls='None', marker='s')\n",
    "\n",
    "x_to_plot = np.linspace(40, 300, 50)\n",
    "for i in np.random.randint(0, high=len(sampler.flatchain), size=50):\n",
    "    m, b = sampler.flatchain[i, [0, 1]]\n",
    "    plt.plot(x_to_plot, m * x_to_plot + b, color='k', alpha=0.05)\n",
    "\n",
    "\n",
    "plt.xlabel(\"$x$\")\n",
    "plt.ylabel(\"$y$\")"
   ]
  },
  {
   "cell_type": "code",
   "execution_count": null,
   "metadata": {},
   "outputs": [],
   "source": [
    "import corner\n",
    "\n",
    "fig = corner.corner(sampler.flatchain[:,[0, 1, 2]], \n",
    "                    labels=[\"$m$\", \"$b$\", \"$P_b$\"], \n",
    "                    range=(0.9, 0.9, 0.9),\n",
    "                    quantiles=[0.16, 0.5, 0.84],\n",
    "                    show_titles=True, title_kwargs={\"fontsize\": 12})"
   ]
  },
  {
   "cell_type": "markdown",
   "metadata": {},
   "source": [
    "## **Problem 3**"
   ]
  },
  {
   "cell_type": "code",
   "execution_count": 25,
   "metadata": {},
   "outputs": [],
   "source": [
    "import astroquery\n",
    "from astroquery.skyview import SkyView"
   ]
  },
  {
   "cell_type": "code",
   "execution_count": 26,
   "metadata": {},
   "outputs": [
    {
     "name": "stdout",
     "output_type": "stream",
     "text": [
      "{'Allbands:GOODS/HDF/CDF': ['GOODS: Chandra ACIS HB',\n",
      "                            'GOODS: Chandra ACIS FB',\n",
      "                            'GOODS: Chandra ACIS SB',\n",
      "                            'GOODS: VLT VIMOS U',\n",
      "                            'GOODS: VLT VIMOS R',\n",
      "                            'GOODS: HST ACS B',\n",
      "                            'GOODS: HST ACS V',\n",
      "                            'GOODS: HST ACS I',\n",
      "                            'GOODS: HST ACS Z',\n",
      "                            'Hawaii HDF U',\n",
      "                            'Hawaii HDF B',\n",
      "                            'Hawaii HDF V0201',\n",
      "                            'Hawaii HDF V0401',\n",
      "                            'Hawaii HDF R',\n",
      "                            'Hawaii HDF I',\n",
      "                            'Hawaii HDF z',\n",
      "                            'Hawaii HDF HK',\n",
      "                            'GOODS: HST NICMOS',\n",
      "                            'GOODS: VLT ISAAC J',\n",
      "                            'GOODS: VLT ISAAC H',\n",
      "                            'GOODS: VLT ISAAC Ks',\n",
      "                            'HUDF: VLT ISAAC Ks',\n",
      "                            'GOODS: Spitzer IRAC 3.6',\n",
      "                            'GOODS: Spitzer IRAC 4.5',\n",
      "                            'GOODS: Spitzer IRAC 5.8',\n",
      "                            'GOODS: Spitzer IRAC 8.0',\n",
      "                            'GOODS: Spitzer MIPS 24',\n",
      "                            'GOODS: Herschel 100',\n",
      "                            'GOODS: Herschel 160',\n",
      "                            'GOODS: Herschel 250',\n",
      "                            'GOODS: Herschel 350',\n",
      "                            'GOODS: Herschel 500',\n",
      "                            'CDFS: LESS',\n",
      "                            'GOODS: VLA North'],\n",
      " 'Allbands:HiPS': ['UltraVista-H',\n",
      "                   'UltraVista-J',\n",
      "                   'UltraVista-Ks',\n",
      "                   'UltraVista-NB118',\n",
      "                   'UltraVista-Y',\n",
      "                   'CFHTLS-W-u',\n",
      "                   'CFHTLS-W-g',\n",
      "                   'CFHTLS-W-r',\n",
      "                   'CFHTLS-W-i',\n",
      "                   'CFHTLS-W-z',\n",
      "                   'CFHTLS-D-u',\n",
      "                   'CFHTLS-D-g',\n",
      "                   'CFHTLS-D-r',\n",
      "                   'CFHTLS-D-i',\n",
      "                   'CFHTLS-D-z'],\n",
      " 'GammaRay': ['Fermi 5',\n",
      "              'Fermi 4',\n",
      "              'Fermi 3',\n",
      "              'Fermi 2',\n",
      "              'Fermi 1',\n",
      "              'EGRET (3D)',\n",
      "              'EGRET <100 MeV',\n",
      "              'EGRET >100 MeV',\n",
      "              'COMPTEL'],\n",
      " 'HardX-ray': ['INT GAL 17-35 Flux',\n",
      "               'INT GAL 17-60 Flux',\n",
      "               'INT GAL 35-80 Flux',\n",
      "               'INTEGRAL/SPI GC',\n",
      "               'GRANAT/SIGMA',\n",
      "               'RXTE Allsky 3-8keV Flux',\n",
      "               'RXTE Allsky 3-20keV Flux',\n",
      "               'RXTE Allsky 8-20keV Flux'],\n",
      " 'IR:2MASS class=': ['2MASS-J', '2MASS-H', '2MASS-K'],\n",
      " 'IR:AKARI class=': ['AKARI N60', 'AKARI WIDE-S', 'AKARI WIDE-L', 'AKARI N160'],\n",
      " 'IR:IRAS': ['IRIS  12',\n",
      "             'IRIS  25',\n",
      "             'IRIS  60',\n",
      "             'IRIS 100',\n",
      "             'SFD100m',\n",
      "             'SFD Dust Map',\n",
      "             'IRAS  12 micron',\n",
      "             'IRAS  25 micron',\n",
      "             'IRAS  60 micron',\n",
      "             'IRAS 100 micron'],\n",
      " 'IR:Planck': ['Planck 857 I',\n",
      "               'Planck 545 I',\n",
      "               'Planck 353 I',\n",
      "               'Planck 353 Q',\n",
      "               'Planck 353 U',\n",
      "               'Planck 353 PI',\n",
      "               'Planck 353 PA',\n",
      "               'Planck 353 PI/I',\n",
      "               'Planck 217 I',\n",
      "               'Planck 217 Q',\n",
      "               'Planck 217 U',\n",
      "               'Planck 217 PI',\n",
      "               'Planck 217 PA',\n",
      "               'Planck 217 PI/I',\n",
      "               'Planck 143 I',\n",
      "               'Planck 143 Q',\n",
      "               'Planck 143 U',\n",
      "               'Planck 143 PI',\n",
      "               'Planck 143 PA',\n",
      "               'Planck 143 PI/I',\n",
      "               'Planck 100 I',\n",
      "               'Planck 100 Q',\n",
      "               'Planck 100 U',\n",
      "               'Planck 100 PI',\n",
      "               'Planck 100 PA',\n",
      "               'Planck 100 PI/I',\n",
      "               'Planck 070 I',\n",
      "               'Planck 070 Q',\n",
      "               'Planck 070 U',\n",
      "               'Planck 070 PI',\n",
      "               'Planck 070 PA',\n",
      "               'Planck 070 PI/I',\n",
      "               'Planck 044 I',\n",
      "               'Planck 044 Q',\n",
      "               'Planck 044 U',\n",
      "               'Planck 044 PI',\n",
      "               'Planck 044 PA',\n",
      "               'Planck 044 PI/I',\n",
      "               'Planck 030 I',\n",
      "               'Planck 030 Q',\n",
      "               'Planck 030 U',\n",
      "               'Planck 030 PI',\n",
      "               'Planck 030 PA',\n",
      "               'Planck 030 PI/I'],\n",
      " 'IR:UKIDSS class=': ['UKIDSS-Y',\n",
      "                      'UKIDSS-J',\n",
      "                      'UKIDSS-H',\n",
      "                      'UKIDSS-K',\n",
      "                      'UKIDSS-1-0S1'],\n",
      " 'IR:WISE class=': ['WISE 3.4', 'WISE 4.6', 'WISE 12', 'WISE 22'],\n",
      " 'IR:WMAP&COBE': ['WMAP ILC',\n",
      "                  'WMAP Ka',\n",
      "                  'WMAP K',\n",
      "                  'WMAP Q',\n",
      "                  'WMAP V',\n",
      "                  'WMAP W',\n",
      "                  'COBE DIRBE/AAM',\n",
      "                  'COBE DIRBE/ZSMA'],\n",
      " 'Optical:DSS class=': ['DSS',\n",
      "                        'DSS1 Blue',\n",
      "                        'DSS1 Red',\n",
      "                        'DSS2 Red',\n",
      "                        'DSS2 Blue',\n",
      "                        'DSS2 IR'],\n",
      " 'Optical:SDSS': ['SDSSg',\n",
      "                  'SDSSi',\n",
      "                  'SDSSr',\n",
      "                  'SDSSu',\n",
      "                  'SDSSz',\n",
      "                  'SDSSdr7g',\n",
      "                  'SDSSdr7i',\n",
      "                  'SDSSdr7r',\n",
      "                  'SDSSdr7u',\n",
      "                  'SDSSdr7z'],\n",
      " 'OtherOptical': ['TESS',\n",
      "                  'Mellinger Red',\n",
      "                  'Mellinger Green',\n",
      "                  'Mellinger Blue',\n",
      "                  'H-Alpha Comp',\n",
      "                  'SHASSA H',\n",
      "                  'SHASSA CC',\n",
      "                  'SHASSA C',\n",
      "                  'SHASSA Sm'],\n",
      " 'ROSATDiffuse class=': ['RASS Background 1',\n",
      "                         'RASS Background 2',\n",
      "                         'RASS Background 3',\n",
      "                         'RASS Background 4',\n",
      "                         'RASS Background 5',\n",
      "                         'RASS Background 6',\n",
      "                         'RASS Background 7'],\n",
      " 'ROSATw/sources class=': ['RASS-Cnt Soft',\n",
      "                           'RASS-Cnt Hard',\n",
      "                           'RASS-Cnt Broad',\n",
      "                           'PSPC 2.0 Deg-Int',\n",
      "                           'PSPC 1.0 Deg-Int',\n",
      "                           'PSPC 0.6 Deg-Int',\n",
      "                           'HRI'],\n",
      " 'Radio:GHz': ['CO',\n",
      "               'GB6 (4850MHz)',\n",
      "               'VLA FIRST (1.4 GHz)',\n",
      "               'NVSS',\n",
      "               'Stripe82VLA',\n",
      "               '1420MHz (Bonn)',\n",
      "               'HI4PI',\n",
      "               'EBHIS',\n",
      "               'nH'],\n",
      " 'Radio:GLEAM class=': ['GLEAM 72-103 MHz',\n",
      "                        'GLEAM 103-134 MHz',\n",
      "                        'GLEAM 139-170 MHz',\n",
      "                        'GLEAM 170-231 MHz'],\n",
      " 'Radio:MHz class=': ['SUMSS 843 MHz',\n",
      "                      '0408MHz',\n",
      "                      'WENSS',\n",
      "                      'TGSS ADR1',\n",
      "                      'VLSSr',\n",
      "                      '0035MHz',\n",
      "                      '0022MHz'],\n",
      " 'SoftX-ray class=': ['SwiftXRTCnt',\n",
      "                      'SwiftXRTExp',\n",
      "                      'SwiftXRTInt',\n",
      "                      'HEAO 1 A-2'],\n",
      " 'SwiftUVOT class=': ['UVOT WHITE Intensity',\n",
      "                      'UVOT V Intensity',\n",
      "                      'UVOT B Intensity',\n",
      "                      'UVOT U Intensity',\n",
      "                      'UVOT UVW1 Intensity',\n",
      "                      'UVOT UVM2 Intensity',\n",
      "                      'UVOT UVW2 Intensity'],\n",
      " 'UV': ['GALEX Near UV',\n",
      "        'GALEX Far UV',\n",
      "        'ROSAT WFC F1',\n",
      "        'ROSAT WFC F2',\n",
      "        'EUVE 83 A',\n",
      "        'EUVE 171 A',\n",
      "        'EUVE 405 A',\n",
      "        'EUVE 555 A'],\n",
      " 'X-ray:SwiftBAT': ['BAT SNR 14-195',\n",
      "                    'BAT SNR 14-20',\n",
      "                    'BAT SNR 20-24',\n",
      "                    'BAT SNR 24-35',\n",
      "                    'BAT SNR 35-50',\n",
      "                    'BAT SNR 50-75',\n",
      "                    'BAT SNR 75-100',\n",
      "                    'BAT SNR 100-150',\n",
      "                    'BAT SNR 150-195']}\n"
     ]
    }
   ],
   "source": [
    "SkyView.list_surveys()"
   ]
  },
  {
   "cell_type": "code",
   "execution_count": 27,
   "metadata": {},
   "outputs": [],
   "source": [
    "from astropy import units as u\n",
    "from astropy.coordinates import SkyCoord"
   ]
  },
  {
   "cell_type": "code",
   "execution_count": 28,
   "metadata": {},
   "outputs": [
    {
     "name": "stdout",
     "output_type": "stream",
     "text": [
      "https://skyview.gsfc.nasa.gov/tempspace/fits/skv4400362835428.fits\n"
     ]
    },
    {
     "name": "stderr",
     "output_type": "stream",
     "text": [
      "WARNING: AstropyDeprecationWarning: The truth value of a Quantity is ambiguous. In the future this will raise a ValueError. [astropy.units.quantity]\n"
     ]
    }
   ],
   "source": [
    "center = SkyCoord('13h39m55.92s', '+00d50m10.02s', frame='icrs')\n",
    "\n",
    "image_address = SkyView.get_image_list(\n",
    "    position=center, survey='SDSSdr7r', height=30*u.arcmin, width=30*u.arcmin, pixels='6000')\n",
    "\n",
    "print(image_address[0])"
   ]
  },
  {
   "cell_type": "code",
   "execution_count": 29,
   "metadata": {},
   "outputs": [
    {
     "name": "stdout",
     "output_type": "stream",
     "text": [
      "https://skyview.gsfc.nasa.gov/tempspace/fits/skv4401302169810.fits\n"
     ]
    }
   ],
   "source": [
    "center = SkyCoord('13h39m55.92s', '+00d50m10.02s', frame='icrs')\n",
    "\n",
    "image_address_radius = SkyView.get_image_list(\n",
    "    position=center, survey='SDSSdr7r', radius=30*u.arcmin, pixels='6000')\n",
    "\n",
    "print(image_address_radius[0])\n",
    "\n",
    "# This worked at some point, and now I don't understand why this directs to a not found site :c."
   ]
  },
  {
   "cell_type": "code",
   "execution_count": 30,
   "metadata": {
    "scrolled": true
   },
   "outputs": [
    {
     "ename": "HTTPError",
     "evalue": "HTTP Error 404: Not Found",
     "output_type": "error",
     "traceback": [
      "\u001b[1;31m---------------------------------------------------------------------------\u001b[0m",
      "\u001b[1;31mHTTPError\u001b[0m                                 Traceback (most recent call last)",
      "\u001b[1;32m~\\AppData\\Local\\Temp/ipykernel_3744/1053084138.py\u001b[0m in \u001b[0;36m<module>\u001b[1;34m\u001b[0m\n\u001b[0;32m      3\u001b[0m \u001b[0mimage_filename\u001b[0m \u001b[1;33m=\u001b[0m \u001b[1;34m'center-SDSS-dr7r.fits'\u001b[0m\u001b[1;33m\u001b[0m\u001b[1;33m\u001b[0m\u001b[0m\n\u001b[0;32m      4\u001b[0m \u001b[1;33m\u001b[0m\u001b[0m\n\u001b[1;32m----> 5\u001b[1;33m \u001b[0murllib\u001b[0m\u001b[1;33m.\u001b[0m\u001b[0mrequest\u001b[0m\u001b[1;33m.\u001b[0m\u001b[0murlretrieve\u001b[0m\u001b[1;33m(\u001b[0m\u001b[0mimage_address\u001b[0m\u001b[1;33m[\u001b[0m\u001b[1;36m0\u001b[0m\u001b[1;33m]\u001b[0m\u001b[1;33m,\u001b[0m \u001b[0mimage_filename\u001b[0m\u001b[1;33m)\u001b[0m\u001b[1;33m\u001b[0m\u001b[1;33m\u001b[0m\u001b[0m\n\u001b[0m",
      "\u001b[1;32m~\\anaconda3\\lib\\urllib\\request.py\u001b[0m in \u001b[0;36murlretrieve\u001b[1;34m(url, filename, reporthook, data)\u001b[0m\n\u001b[0;32m    237\u001b[0m     \u001b[0murl_type\u001b[0m\u001b[1;33m,\u001b[0m \u001b[0mpath\u001b[0m \u001b[1;33m=\u001b[0m \u001b[0m_splittype\u001b[0m\u001b[1;33m(\u001b[0m\u001b[0murl\u001b[0m\u001b[1;33m)\u001b[0m\u001b[1;33m\u001b[0m\u001b[1;33m\u001b[0m\u001b[0m\n\u001b[0;32m    238\u001b[0m \u001b[1;33m\u001b[0m\u001b[0m\n\u001b[1;32m--> 239\u001b[1;33m     \u001b[1;32mwith\u001b[0m \u001b[0mcontextlib\u001b[0m\u001b[1;33m.\u001b[0m\u001b[0mclosing\u001b[0m\u001b[1;33m(\u001b[0m\u001b[0murlopen\u001b[0m\u001b[1;33m(\u001b[0m\u001b[0murl\u001b[0m\u001b[1;33m,\u001b[0m \u001b[0mdata\u001b[0m\u001b[1;33m)\u001b[0m\u001b[1;33m)\u001b[0m \u001b[1;32mas\u001b[0m \u001b[0mfp\u001b[0m\u001b[1;33m:\u001b[0m\u001b[1;33m\u001b[0m\u001b[1;33m\u001b[0m\u001b[0m\n\u001b[0m\u001b[0;32m    240\u001b[0m         \u001b[0mheaders\u001b[0m \u001b[1;33m=\u001b[0m \u001b[0mfp\u001b[0m\u001b[1;33m.\u001b[0m\u001b[0minfo\u001b[0m\u001b[1;33m(\u001b[0m\u001b[1;33m)\u001b[0m\u001b[1;33m\u001b[0m\u001b[1;33m\u001b[0m\u001b[0m\n\u001b[0;32m    241\u001b[0m \u001b[1;33m\u001b[0m\u001b[0m\n",
      "\u001b[1;32m~\\anaconda3\\lib\\urllib\\request.py\u001b[0m in \u001b[0;36murlopen\u001b[1;34m(url, data, timeout, cafile, capath, cadefault, context)\u001b[0m\n\u001b[0;32m    212\u001b[0m     \u001b[1;32melse\u001b[0m\u001b[1;33m:\u001b[0m\u001b[1;33m\u001b[0m\u001b[1;33m\u001b[0m\u001b[0m\n\u001b[0;32m    213\u001b[0m         \u001b[0mopener\u001b[0m \u001b[1;33m=\u001b[0m \u001b[0m_opener\u001b[0m\u001b[1;33m\u001b[0m\u001b[1;33m\u001b[0m\u001b[0m\n\u001b[1;32m--> 214\u001b[1;33m     \u001b[1;32mreturn\u001b[0m \u001b[0mopener\u001b[0m\u001b[1;33m.\u001b[0m\u001b[0mopen\u001b[0m\u001b[1;33m(\u001b[0m\u001b[0murl\u001b[0m\u001b[1;33m,\u001b[0m \u001b[0mdata\u001b[0m\u001b[1;33m,\u001b[0m \u001b[0mtimeout\u001b[0m\u001b[1;33m)\u001b[0m\u001b[1;33m\u001b[0m\u001b[1;33m\u001b[0m\u001b[0m\n\u001b[0m\u001b[0;32m    215\u001b[0m \u001b[1;33m\u001b[0m\u001b[0m\n\u001b[0;32m    216\u001b[0m \u001b[1;32mdef\u001b[0m \u001b[0minstall_opener\u001b[0m\u001b[1;33m(\u001b[0m\u001b[0mopener\u001b[0m\u001b[1;33m)\u001b[0m\u001b[1;33m:\u001b[0m\u001b[1;33m\u001b[0m\u001b[1;33m\u001b[0m\u001b[0m\n",
      "\u001b[1;32m~\\anaconda3\\lib\\urllib\\request.py\u001b[0m in \u001b[0;36mopen\u001b[1;34m(self, fullurl, data, timeout)\u001b[0m\n\u001b[0;32m    521\u001b[0m         \u001b[1;32mfor\u001b[0m \u001b[0mprocessor\u001b[0m \u001b[1;32min\u001b[0m \u001b[0mself\u001b[0m\u001b[1;33m.\u001b[0m\u001b[0mprocess_response\u001b[0m\u001b[1;33m.\u001b[0m\u001b[0mget\u001b[0m\u001b[1;33m(\u001b[0m\u001b[0mprotocol\u001b[0m\u001b[1;33m,\u001b[0m \u001b[1;33m[\u001b[0m\u001b[1;33m]\u001b[0m\u001b[1;33m)\u001b[0m\u001b[1;33m:\u001b[0m\u001b[1;33m\u001b[0m\u001b[1;33m\u001b[0m\u001b[0m\n\u001b[0;32m    522\u001b[0m             \u001b[0mmeth\u001b[0m \u001b[1;33m=\u001b[0m \u001b[0mgetattr\u001b[0m\u001b[1;33m(\u001b[0m\u001b[0mprocessor\u001b[0m\u001b[1;33m,\u001b[0m \u001b[0mmeth_name\u001b[0m\u001b[1;33m)\u001b[0m\u001b[1;33m\u001b[0m\u001b[1;33m\u001b[0m\u001b[0m\n\u001b[1;32m--> 523\u001b[1;33m             \u001b[0mresponse\u001b[0m \u001b[1;33m=\u001b[0m \u001b[0mmeth\u001b[0m\u001b[1;33m(\u001b[0m\u001b[0mreq\u001b[0m\u001b[1;33m,\u001b[0m \u001b[0mresponse\u001b[0m\u001b[1;33m)\u001b[0m\u001b[1;33m\u001b[0m\u001b[1;33m\u001b[0m\u001b[0m\n\u001b[0m\u001b[0;32m    524\u001b[0m \u001b[1;33m\u001b[0m\u001b[0m\n\u001b[0;32m    525\u001b[0m         \u001b[1;32mreturn\u001b[0m \u001b[0mresponse\u001b[0m\u001b[1;33m\u001b[0m\u001b[1;33m\u001b[0m\u001b[0m\n",
      "\u001b[1;32m~\\anaconda3\\lib\\urllib\\request.py\u001b[0m in \u001b[0;36mhttp_response\u001b[1;34m(self, request, response)\u001b[0m\n\u001b[0;32m    630\u001b[0m         \u001b[1;31m# request was successfully received, understood, and accepted.\u001b[0m\u001b[1;33m\u001b[0m\u001b[1;33m\u001b[0m\u001b[0m\n\u001b[0;32m    631\u001b[0m         \u001b[1;32mif\u001b[0m \u001b[1;32mnot\u001b[0m \u001b[1;33m(\u001b[0m\u001b[1;36m200\u001b[0m \u001b[1;33m<=\u001b[0m \u001b[0mcode\u001b[0m \u001b[1;33m<\u001b[0m \u001b[1;36m300\u001b[0m\u001b[1;33m)\u001b[0m\u001b[1;33m:\u001b[0m\u001b[1;33m\u001b[0m\u001b[1;33m\u001b[0m\u001b[0m\n\u001b[1;32m--> 632\u001b[1;33m             response = self.parent.error(\n\u001b[0m\u001b[0;32m    633\u001b[0m                 'http', request, response, code, msg, hdrs)\n\u001b[0;32m    634\u001b[0m \u001b[1;33m\u001b[0m\u001b[0m\n",
      "\u001b[1;32m~\\anaconda3\\lib\\urllib\\request.py\u001b[0m in \u001b[0;36merror\u001b[1;34m(self, proto, *args)\u001b[0m\n\u001b[0;32m    559\u001b[0m         \u001b[1;32mif\u001b[0m \u001b[0mhttp_err\u001b[0m\u001b[1;33m:\u001b[0m\u001b[1;33m\u001b[0m\u001b[1;33m\u001b[0m\u001b[0m\n\u001b[0;32m    560\u001b[0m             \u001b[0margs\u001b[0m \u001b[1;33m=\u001b[0m \u001b[1;33m(\u001b[0m\u001b[0mdict\u001b[0m\u001b[1;33m,\u001b[0m \u001b[1;34m'default'\u001b[0m\u001b[1;33m,\u001b[0m \u001b[1;34m'http_error_default'\u001b[0m\u001b[1;33m)\u001b[0m \u001b[1;33m+\u001b[0m \u001b[0morig_args\u001b[0m\u001b[1;33m\u001b[0m\u001b[1;33m\u001b[0m\u001b[0m\n\u001b[1;32m--> 561\u001b[1;33m             \u001b[1;32mreturn\u001b[0m \u001b[0mself\u001b[0m\u001b[1;33m.\u001b[0m\u001b[0m_call_chain\u001b[0m\u001b[1;33m(\u001b[0m\u001b[1;33m*\u001b[0m\u001b[0margs\u001b[0m\u001b[1;33m)\u001b[0m\u001b[1;33m\u001b[0m\u001b[1;33m\u001b[0m\u001b[0m\n\u001b[0m\u001b[0;32m    562\u001b[0m \u001b[1;33m\u001b[0m\u001b[0m\n\u001b[0;32m    563\u001b[0m \u001b[1;31m# XXX probably also want an abstract factory that knows when it makes\u001b[0m\u001b[1;33m\u001b[0m\u001b[1;33m\u001b[0m\u001b[0m\n",
      "\u001b[1;32m~\\anaconda3\\lib\\urllib\\request.py\u001b[0m in \u001b[0;36m_call_chain\u001b[1;34m(self, chain, kind, meth_name, *args)\u001b[0m\n\u001b[0;32m    492\u001b[0m         \u001b[1;32mfor\u001b[0m \u001b[0mhandler\u001b[0m \u001b[1;32min\u001b[0m \u001b[0mhandlers\u001b[0m\u001b[1;33m:\u001b[0m\u001b[1;33m\u001b[0m\u001b[1;33m\u001b[0m\u001b[0m\n\u001b[0;32m    493\u001b[0m             \u001b[0mfunc\u001b[0m \u001b[1;33m=\u001b[0m \u001b[0mgetattr\u001b[0m\u001b[1;33m(\u001b[0m\u001b[0mhandler\u001b[0m\u001b[1;33m,\u001b[0m \u001b[0mmeth_name\u001b[0m\u001b[1;33m)\u001b[0m\u001b[1;33m\u001b[0m\u001b[1;33m\u001b[0m\u001b[0m\n\u001b[1;32m--> 494\u001b[1;33m             \u001b[0mresult\u001b[0m \u001b[1;33m=\u001b[0m \u001b[0mfunc\u001b[0m\u001b[1;33m(\u001b[0m\u001b[1;33m*\u001b[0m\u001b[0margs\u001b[0m\u001b[1;33m)\u001b[0m\u001b[1;33m\u001b[0m\u001b[1;33m\u001b[0m\u001b[0m\n\u001b[0m\u001b[0;32m    495\u001b[0m             \u001b[1;32mif\u001b[0m \u001b[0mresult\u001b[0m \u001b[1;32mis\u001b[0m \u001b[1;32mnot\u001b[0m \u001b[1;32mNone\u001b[0m\u001b[1;33m:\u001b[0m\u001b[1;33m\u001b[0m\u001b[1;33m\u001b[0m\u001b[0m\n\u001b[0;32m    496\u001b[0m                 \u001b[1;32mreturn\u001b[0m \u001b[0mresult\u001b[0m\u001b[1;33m\u001b[0m\u001b[1;33m\u001b[0m\u001b[0m\n",
      "\u001b[1;32m~\\anaconda3\\lib\\urllib\\request.py\u001b[0m in \u001b[0;36mhttp_error_default\u001b[1;34m(self, req, fp, code, msg, hdrs)\u001b[0m\n\u001b[0;32m    639\u001b[0m \u001b[1;32mclass\u001b[0m \u001b[0mHTTPDefaultErrorHandler\u001b[0m\u001b[1;33m(\u001b[0m\u001b[0mBaseHandler\u001b[0m\u001b[1;33m)\u001b[0m\u001b[1;33m:\u001b[0m\u001b[1;33m\u001b[0m\u001b[1;33m\u001b[0m\u001b[0m\n\u001b[0;32m    640\u001b[0m     \u001b[1;32mdef\u001b[0m \u001b[0mhttp_error_default\u001b[0m\u001b[1;33m(\u001b[0m\u001b[0mself\u001b[0m\u001b[1;33m,\u001b[0m \u001b[0mreq\u001b[0m\u001b[1;33m,\u001b[0m \u001b[0mfp\u001b[0m\u001b[1;33m,\u001b[0m \u001b[0mcode\u001b[0m\u001b[1;33m,\u001b[0m \u001b[0mmsg\u001b[0m\u001b[1;33m,\u001b[0m \u001b[0mhdrs\u001b[0m\u001b[1;33m)\u001b[0m\u001b[1;33m:\u001b[0m\u001b[1;33m\u001b[0m\u001b[1;33m\u001b[0m\u001b[0m\n\u001b[1;32m--> 641\u001b[1;33m         \u001b[1;32mraise\u001b[0m \u001b[0mHTTPError\u001b[0m\u001b[1;33m(\u001b[0m\u001b[0mreq\u001b[0m\u001b[1;33m.\u001b[0m\u001b[0mfull_url\u001b[0m\u001b[1;33m,\u001b[0m \u001b[0mcode\u001b[0m\u001b[1;33m,\u001b[0m \u001b[0mmsg\u001b[0m\u001b[1;33m,\u001b[0m \u001b[0mhdrs\u001b[0m\u001b[1;33m,\u001b[0m \u001b[0mfp\u001b[0m\u001b[1;33m)\u001b[0m\u001b[1;33m\u001b[0m\u001b[1;33m\u001b[0m\u001b[0m\n\u001b[0m\u001b[0;32m    642\u001b[0m \u001b[1;33m\u001b[0m\u001b[0m\n\u001b[0;32m    643\u001b[0m \u001b[1;32mclass\u001b[0m \u001b[0mHTTPRedirectHandler\u001b[0m\u001b[1;33m(\u001b[0m\u001b[0mBaseHandler\u001b[0m\u001b[1;33m)\u001b[0m\u001b[1;33m:\u001b[0m\u001b[1;33m\u001b[0m\u001b[1;33m\u001b[0m\u001b[0m\n",
      "\u001b[1;31mHTTPError\u001b[0m: HTTP Error 404: Not Found"
     ]
    }
   ],
   "source": [
    "import urllib\n",
    "\n",
    "image_filename = 'center-SDSS-dr7r.fits'\n",
    "\n",
    "urllib.request.urlretrieve(image_address[0], image_filename)"
   ]
  },
  {
   "cell_type": "code",
   "execution_count": null,
   "metadata": {},
   "outputs": [],
   "source": [
    "image_filename_radius = 'radius-center-SDSS-dr7r.fits'\n",
    "urllib.request.urlretrieve(image_address_radius[0], image_filename_radius)"
   ]
  },
  {
   "cell_type": "code",
   "execution_count": null,
   "metadata": {},
   "outputs": [],
   "source": [
    "from astropy.io import fits\n",
    "\n",
    "R = fits.open(image_filename_radius)"
   ]
  },
  {
   "cell_type": "code",
   "execution_count": null,
   "metadata": {},
   "outputs": [],
   "source": [
    "R.info()"
   ]
  },
  {
   "cell_type": "code",
   "execution_count": null,
   "metadata": {},
   "outputs": [],
   "source": [
    "R[0].header"
   ]
  },
  {
   "cell_type": "code",
   "execution_count": null,
   "metadata": {},
   "outputs": [],
   "source": [
    "plt.figure(figsize=(7, 7))\n",
    "plt.imshow(R[0].data, vmin=1100, vmax=1400, origin='lower', cmap='gray')\n",
    "plt.show()"
   ]
  },
  {
   "cell_type": "markdown",
   "metadata": {},
   "source": [
    "I really tried but didn't understand much about this problem :c"
   ]
  }
 ],
 "metadata": {
  "interpreter": {
   "hash": "b42055eaf4e5a3f58a8201bcc5db7863bf70f610c77b2c9e2881a623966f80d2"
  },
  "kernelspec": {
   "display_name": "Python 3 (ipykernel)",
   "language": "python",
   "name": "python3"
  },
  "language_info": {
   "codemirror_mode": {
    "name": "ipython",
    "version": 3
   },
   "file_extension": ".py",
   "mimetype": "text/x-python",
   "name": "python",
   "nbconvert_exporter": "python",
   "pygments_lexer": "ipython3",
   "version": "3.9.7"
  },
  "toc": {
   "base_numbering": 1,
   "nav_menu": {},
   "number_sections": false,
   "sideBar": true,
   "skip_h1_title": true,
   "title_cell": "Table of Contents",
   "title_sidebar": "Contents",
   "toc_cell": true,
   "toc_position": {
    "height": "246.938px",
    "left": "10px",
    "top": "150px",
    "width": "256.925px"
   },
   "toc_section_display": true,
   "toc_window_display": true
  }
 },
 "nbformat": 4,
 "nbformat_minor": 2
}
